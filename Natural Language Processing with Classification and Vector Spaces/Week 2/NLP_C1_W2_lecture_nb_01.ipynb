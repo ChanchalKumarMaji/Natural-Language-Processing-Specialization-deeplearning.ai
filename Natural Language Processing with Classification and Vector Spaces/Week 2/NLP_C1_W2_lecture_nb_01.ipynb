{
 "cells": [
  {
   "cell_type": "markdown",
   "metadata": {},
   "source": [
    "# Ungraded lab #2: Visualizing Naive Bayes\n",
    "\n",
    "**Objective:** Visualize and interpret the Naive Bayes model for binary classification of tweets\n",
    "\n",
    "**Steps: **\n",
    "* Use the conditional probabilities of each tweet to create a scatter plot of tweets. Color represents the class.\n",
    "* Calculate the ellipses that contain 93% (3 std) of positive and negative examples. \n",
    "* Show the ellipses and examples in the same plot\n"
   ]
  },
  {
   "cell_type": "code",
   "execution_count": null,
   "metadata": {},
   "outputs": [],
   "source": [
    "import numpy as np # Library for linear algebra and math utils\n",
    "import pandas as pd # Dataframe library\n",
    "\n",
    "import matplotlib.pyplot as plt # Library for plots\n",
    "from utils import confidence_ellipse # Function to add confidence ellipses to charts"
   ]
  },
  {
   "cell_type": "markdown",
   "metadata": {},
   "source": [
    " ## Calculate the likelihoods for each tweet\n",
    "\n",
    "In this notebook you will use the log likelihood of the the tweet to give us a visual idea of the set of data that we have.\n",
    "\n",
    "For each tweet we have calculated the likelihood of the tweet to be positive and the likelihood to be negative. i.e we have calculated in different columns the numerator and denominator of the likelihood ratio introduced previouly. \n",
    "\n",
    "$$log \\frac{P(tweet|pos)}{P(tweet|neg)} = log(P(tweet|pos)) - log(P(tweet|neg)) $$\n",
    "$$positive = log(P(tweet|pos)) = \\sum_{i=0}^{n}{log P(W_i|pos)}$$\n",
    "$$negative = log(P(tweet|neg)) = \\sum_{i=0}^{n}{log P(W_i|neg)}$$\n",
    "\n",
    "So, for each tweet, we have calculated and stored in a table the loglikelihood of the positive and the negative termn separately, alonside its corresponding sentiment. This table have been stored in the file called __'bayes_features.csv'__.\n",
    "\n",
    "The bellow cell load the table in a dataframe. Dataframes are data structures that simplify the manipulation of data, allowing filtering, slicing, joining and summarization."
   ]
  },
  {
   "cell_type": "code",
   "execution_count": null,
   "metadata": {},
   "outputs": [],
   "source": [
    "data = pd.read_csv('bayes_features.cvs'); # Load the data from the csv file\n",
    "\n",
    "data.head(5) # Print the first 5 tweets features. Each row represents a tweet"
   ]
  },
  {
   "cell_type": "code",
   "execution_count": null,
   "metadata": {},
   "outputs": [],
   "source": [
    "# Plot the samples using columns 1 and 2 of the matrix\n",
    "\n",
    "fig, ax = plt.subplots(figsize = (6, 6)) #Create a new figure with a custom size\n",
    "\n",
    "colors = ['red', 'green'] # Define a color palete\n",
    "\n",
    "# Color base on sentiment\n",
    "ax.scatter(data.positive, data.negative, \n",
    "    c=[colors[int(k)] for k in data.sentiment], s = 0.1, marker='*')  # Plot a dot for each tweet\n",
    "# Custom limits for this chart\n",
    "plt.xlim(-250,0)\n",
    "plt.ylim(-250,0)\n",
    "plt.xlabel(\"Positive\") # Axe label\n",
    "plt.ylabel(\"Negative\") # Axe label"
   ]
  },
  {
   "cell_type": "markdown",
   "metadata": {},
   "source": [
    "# Using Confidence Ellipses to interpret Naïve Bayes\n",
    "\n",
    "In this section we will use the [confidence ellipse]( https://matplotlib.org/3.1.1/gallery/statistics/confidence_ellipse.html#sphx-glr-gallery-statistics-confidence-ellipse-py) to give us an idea of what the Naïva Bayes model \"see\".\n",
    "\n",
    "A confidence ellipse is a way to visusalize a 2D normal random variable. The center of the ellipse is the mean of the data attributes. The angle of the ellipse is determined using the direction of the principal components of the covariance matrix and the width and height of the ellipse are determined using the explained variance of each principal component. Don't worry if you don't undestand the later paragraph. In the next  modules you will have the oportunity to implement the algorithm that does this, when you see Principal Component Analysis(PCA). \n",
    "\n",
    "For now, just see how these ellipses more or less summarizes the pattern in the data. The less overlap between the ellipses the better will work the Naïve Bayes classifier. "
   ]
  },
  {
   "cell_type": "code",
   "execution_count": null,
   "metadata": {},
   "outputs": [],
   "source": [
    "# Plot the samples using columns 1 and 2 of the matrix\n",
    "fig, ax = plt.subplots(figsize = (6, 6))\n",
    "\n",
    "colors = ['red', 'green'] # Define a color palete\n",
    "\n",
    "# Color base on sentiment\n",
    "\n",
    "ax.scatter(data.positive, data.negative, c=[colors[int(k)] for k in data.sentiment], s = 0.1, marker='*')  # Plot a dot for tweet\n",
    "# Custom limits for this chart\n",
    "plt.xlim(-200,40)  \n",
    "plt.ylim(-200,40)\n",
    "plt.xlabel(\"Positive\") # Axe label\n",
    "plt.ylabel(\"Negative\") # Axe label\n",
    "\n",
    "data_pos = data[data.sentiment == 1] # Filter only the positive samples\n",
    "data_neg = data[data.sentiment == 0] # Filter only the negative samples\n",
    "\n",
    "# Print confidence ellipses of 2 std\n",
    "confidence_ellipse(data_pos.positive, data_pos.negative, ax, n_std=2, edgecolor='black', label=r'$2\\sigma$' )\n",
    "confidence_ellipse(data_neg.positive, data_neg.negative, ax, n_std=2, edgecolor='orange')\n",
    "\n",
    "# Print confidence ellipses of 3 std\n",
    "confidence_ellipse(data_pos.positive, data_pos.negative, ax, n_std=3, edgecolor='black', linestyle=':', label=r'$3\\sigma$')\n",
    "confidence_ellipse(data_neg.positive, data_neg.negative, ax, n_std=3, edgecolor='orange', linestyle=':')\n",
    "ax.legend()\n",
    "\n",
    "plt.show()"
   ]
  },
  {
   "cell_type": "markdown",
   "metadata": {},
   "source": [
    "To give away: Undestanding your data allows to predict if the method that you are going to use will perform well or not. Or it will allows to undestand why it worked well or bad."
   ]
  }
 ],
 "metadata": {
  "coursera": {
   "schema_names": [
    "NLPC1-2"
   ]
  },
  "kernelspec": {
   "display_name": "Python 3",
   "language": "python",
   "name": "python3"
  },
  "language_info": {
   "codemirror_mode": {
    "name": "ipython",
    "version": 3
   },
   "file_extension": ".py",
   "mimetype": "text/x-python",
   "name": "python",
   "nbconvert_exporter": "python",
   "pygments_lexer": "ipython3",
   "version": "3.7.1"
  }
 },
 "nbformat": 4,
 "nbformat_minor": 4
}
